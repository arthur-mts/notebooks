{
 "cells": [
  {
   "cell_type": "code",
   "execution_count": 160,
   "metadata": {
    "collapsed": true,
    "pycharm": {
     "name": "#%%\n"
    }
   },
   "outputs": [
    {
     "data": {
      "text/plain": "'pt_BR.UTF-8'"
     },
     "execution_count": 160,
     "metadata": {},
     "output_type": "execute_result"
    }
   ],
   "source": [
    "import numpy as np\n",
    "import matplotlib as plt\n",
    "import csv\n",
    "import pandas as pd\n",
    "import locale\n",
    "locale.setlocale(locale.LC_MONETARY, 'pt_BR.UTF-8')"
   ]
  },
  {
   "cell_type": "code",
   "execution_count": 161,
   "outputs": [
    {
     "data": {
      "text/plain": "        DATA PGTO    CPF SERVIDOR  CPF/CNPJ FORNECEDOR  \\\n0      2003-01-02  ***.010.008-**         3.134920e+13   \n1      2003-01-02  ***.010.008-**         3.134920e+13   \n2      2003-01-02  ***.868.251-**         3.134920e+13   \n3      2003-01-03  ***.004.131-**         5.927170e+11   \n4      2003-01-03  ***.004.131-**         8.393080e+11   \n...           ...             ...                  ...   \n113336 2022-12-03  ***.136.591-**         3.987994e+13   \n113337 2022-12-04  ***.136.591-**         4.750841e+13   \n113338 2022-12-04  ***.136.591-**         1.255044e+13   \n113339 2022-12-04  ***.136.591-**         3.696869e+12   \n113341 2022-12-19             NaN                  NaN   \n\n                                          NOME FORNECEDOR    VALOR TIPO  \\\n0                              JW TRANSPORTADORA TURSTICA  1696.90    D   \n1                              JW TRANSPORTADORA TURSTICA  1336.60    D   \n2                              JW TRANSPORTADORA TURSTICA  1396.43    D   \n3                                         FLORES ALVORADA  8585.00    C   \n4       CRISTAL LIMPEZA - COMRCIO DE MATERIAIS PARA LIMPE   251.50    C   \n...                                                   ...      ...  ...   \n113336           BIOMUNDO 105 NORTE COMERCIO DE ALIMENTOS    54.95    C   \n113337                 COMPANHIA BRASILEIRA DE DISTRIBUIO   518.07    C   \n113338                                   RESTAURANTE SOHO   330.52    C   \n113339              BIG TRANS COMERCIAL DE ALIMENTOS LTDA    54.66    C   \n113341                                                NaN      NaN  NaN   \n\n                            SUBELEMENTO DE DESPESA  \\\n0                   LOCACAO DE MEIOS DE TRANSPORTE   \n1                   LOCACAO DE MEIOS DE TRANSPORTE   \n2                   LOCACAO DE MEIOS DE TRANSPORTE   \n3       OUTROS SERVIOS DE TERCEIROS-PESSOA JURDICA   \n4        MATERIAL DE LIMPEZA E PROD. DE HIGIENIZAO   \n...                                            ...   \n113336                        GENEROS DE ALIMENTAO   \n113337                        GENEROS DE ALIMENTAO   \n113338                   FORNECIMENTO DE ALIMENTAO   \n113339                        GENEROS DE ALIMENTAO   \n113341                                         NaN   \n\n                                                     CDIC  \n0       00200.220539/2003-63.R.08.18/12/2002.31/12/2014.N  \n1       00200.220539/2003-63.R.08.18/12/2002.31/12/2014.N  \n2       00200.600539/2003-63.R.08.18/12/2002.31/12/2014.N  \n3       00200.800212/2003-91.R.08.07/12/2002.31/12/2014.N  \n4       00200.800212/2003-91.R.08.07/12/2002.31/12/2014.N  \n...                                                   ...  \n113336  00264.000642/2022-21.R.08.25/11/2022.31/12/2022.N  \n113337  00264.000642/2022-21.R.08.25/11/2022.31/12/2022.N  \n113338  00264.000642/2022-21.R.08.25/11/2022.31/12/2022.N  \n113339  00264.000642/2022-21.R.08.25/11/2022.31/12/2022.N  \n113341                                                NaN  \n\n[113341 rows x 8 columns]",
      "text/html": "<div>\n<style scoped>\n    .dataframe tbody tr th:only-of-type {\n        vertical-align: middle;\n    }\n\n    .dataframe tbody tr th {\n        vertical-align: top;\n    }\n\n    .dataframe thead th {\n        text-align: right;\n    }\n</style>\n<table border=\"1\" class=\"dataframe\">\n  <thead>\n    <tr style=\"text-align: right;\">\n      <th></th>\n      <th>DATA PGTO</th>\n      <th>CPF SERVIDOR</th>\n      <th>CPF/CNPJ FORNECEDOR</th>\n      <th>NOME FORNECEDOR</th>\n      <th>VALOR</th>\n      <th>TIPO</th>\n      <th>SUBELEMENTO DE DESPESA</th>\n      <th>CDIC</th>\n    </tr>\n  </thead>\n  <tbody>\n    <tr>\n      <th>0</th>\n      <td>2003-01-02</td>\n      <td>***.010.008-**</td>\n      <td>3.134920e+13</td>\n      <td>JW TRANSPORTADORA TURSTICA</td>\n      <td>1696.90</td>\n      <td>D</td>\n      <td>LOCACAO DE MEIOS DE TRANSPORTE</td>\n      <td>00200.220539/2003-63.R.08.18/12/2002.31/12/2014.N</td>\n    </tr>\n    <tr>\n      <th>1</th>\n      <td>2003-01-02</td>\n      <td>***.010.008-**</td>\n      <td>3.134920e+13</td>\n      <td>JW TRANSPORTADORA TURSTICA</td>\n      <td>1336.60</td>\n      <td>D</td>\n      <td>LOCACAO DE MEIOS DE TRANSPORTE</td>\n      <td>00200.220539/2003-63.R.08.18/12/2002.31/12/2014.N</td>\n    </tr>\n    <tr>\n      <th>2</th>\n      <td>2003-01-02</td>\n      <td>***.868.251-**</td>\n      <td>3.134920e+13</td>\n      <td>JW TRANSPORTADORA TURSTICA</td>\n      <td>1396.43</td>\n      <td>D</td>\n      <td>LOCACAO DE MEIOS DE TRANSPORTE</td>\n      <td>00200.600539/2003-63.R.08.18/12/2002.31/12/2014.N</td>\n    </tr>\n    <tr>\n      <th>3</th>\n      <td>2003-01-03</td>\n      <td>***.004.131-**</td>\n      <td>5.927170e+11</td>\n      <td>FLORES ALVORADA</td>\n      <td>8585.00</td>\n      <td>C</td>\n      <td>OUTROS SERVIOS DE TERCEIROS-PESSOA JURDICA</td>\n      <td>00200.800212/2003-91.R.08.07/12/2002.31/12/2014.N</td>\n    </tr>\n    <tr>\n      <th>4</th>\n      <td>2003-01-03</td>\n      <td>***.004.131-**</td>\n      <td>8.393080e+11</td>\n      <td>CRISTAL LIMPEZA - COMRCIO DE MATERIAIS PARA LIMPE</td>\n      <td>251.50</td>\n      <td>C</td>\n      <td>MATERIAL DE LIMPEZA E PROD. DE HIGIENIZAO</td>\n      <td>00200.800212/2003-91.R.08.07/12/2002.31/12/2014.N</td>\n    </tr>\n    <tr>\n      <th>...</th>\n      <td>...</td>\n      <td>...</td>\n      <td>...</td>\n      <td>...</td>\n      <td>...</td>\n      <td>...</td>\n      <td>...</td>\n      <td>...</td>\n    </tr>\n    <tr>\n      <th>113336</th>\n      <td>2022-12-03</td>\n      <td>***.136.591-**</td>\n      <td>3.987994e+13</td>\n      <td>BIOMUNDO 105 NORTE COMERCIO DE ALIMENTOS</td>\n      <td>54.95</td>\n      <td>C</td>\n      <td>GENEROS DE ALIMENTAO</td>\n      <td>00264.000642/2022-21.R.08.25/11/2022.31/12/2022.N</td>\n    </tr>\n    <tr>\n      <th>113337</th>\n      <td>2022-12-04</td>\n      <td>***.136.591-**</td>\n      <td>4.750841e+13</td>\n      <td>COMPANHIA BRASILEIRA DE DISTRIBUIO</td>\n      <td>518.07</td>\n      <td>C</td>\n      <td>GENEROS DE ALIMENTAO</td>\n      <td>00264.000642/2022-21.R.08.25/11/2022.31/12/2022.N</td>\n    </tr>\n    <tr>\n      <th>113338</th>\n      <td>2022-12-04</td>\n      <td>***.136.591-**</td>\n      <td>1.255044e+13</td>\n      <td>RESTAURANTE SOHO</td>\n      <td>330.52</td>\n      <td>C</td>\n      <td>FORNECIMENTO DE ALIMENTAO</td>\n      <td>00264.000642/2022-21.R.08.25/11/2022.31/12/2022.N</td>\n    </tr>\n    <tr>\n      <th>113339</th>\n      <td>2022-12-04</td>\n      <td>***.136.591-**</td>\n      <td>3.696869e+12</td>\n      <td>BIG TRANS COMERCIAL DE ALIMENTOS LTDA</td>\n      <td>54.66</td>\n      <td>C</td>\n      <td>GENEROS DE ALIMENTAO</td>\n      <td>00264.000642/2022-21.R.08.25/11/2022.31/12/2022.N</td>\n    </tr>\n    <tr>\n      <th>113341</th>\n      <td>2022-12-19</td>\n      <td>NaN</td>\n      <td>NaN</td>\n      <td>NaN</td>\n      <td>NaN</td>\n      <td>NaN</td>\n      <td>NaN</td>\n      <td>NaN</td>\n    </tr>\n  </tbody>\n</table>\n<p>113341 rows × 8 columns</p>\n</div>"
     },
     "execution_count": 161,
     "metadata": {},
     "output_type": "execute_result"
    }
   ],
   "source": [
    "csv = pd.read_csv('./Planilha12003a2022.csv',encoding_errors='ignore', delimiter=';')\n",
    "\n",
    "csv['DATA PGTO'] = csv['DATA PGTO'].str.replace('At ', '')\n",
    "csv = csv.loc[csv['DATA PGTO'].str.contains('\\d+\\/\\d+\\/\\d+', regex=True)]\n",
    "csv['DATA PGTO'] = pd.to_datetime(csv['DATA PGTO'], format='%d/%m/%Y')\n",
    "csv['VALOR'] = csv['VALOR'].str\\\n",
    "    .replace('R\\$ ', '', regex=True)\\\n",
    "    .replace('\\.', '', regex=True)\\\n",
    "    .replace(' ', '', regex=True)\\\n",
    "    .replace(',', '.', regex=True)\\\n",
    "    .where(lambda x: x!='-')\\\n",
    "    .astype(float)\n",
    "    # .astype(float)\n",
    "\n",
    "csv"
   ],
   "metadata": {
    "collapsed": false,
    "pycharm": {
     "name": "#%%\n"
    }
   }
  },
  {
   "cell_type": "code",
   "execution_count": 162,
   "outputs": [
    {
     "data": {
      "text/plain": "0         1696.90\n1         1336.60\n2         1396.43\n3         8585.00\n4          251.50\n           ...   \n113336      54.95\n113337     518.07\n113338     330.52\n113339      54.66\n113341        NaN\nName: VALOR, Length: 113341, dtype: float64"
     },
     "execution_count": 162,
     "metadata": {},
     "output_type": "execute_result"
    }
   ],
   "source": [
    "csv['VALOR']"
   ],
   "metadata": {
    "collapsed": false,
    "pycharm": {
     "name": "#%%\n"
    }
   }
  },
  {
   "cell_type": "markdown",
   "source": [
    "# Mandato Lula 1"
   ],
   "metadata": {
    "collapsed": false,
    "pycharm": {
     "name": "#%% md\n"
    }
   }
  },
  {
   "cell_type": "code",
   "execution_count": 163,
   "outputs": [
    {
     "data": {
      "text/plain": "       DATA PGTO    CPF SERVIDOR  CPF/CNPJ FORNECEDOR  \\\n0     2003-01-02  ***.010.008-**         3.134920e+13   \n1     2003-01-02  ***.010.008-**         3.134920e+13   \n2     2003-01-02  ***.868.251-**         3.134920e+13   \n3     2003-01-03  ***.004.131-**         5.927170e+11   \n4     2003-01-03  ***.004.131-**         8.393080e+11   \n...          ...             ...                  ...   \n29149 2006-12-29  ***.262.471-**         3.290462e+13   \n29150 2006-12-30  ***.262.471-**         1.601043e+13   \n29151 2006-12-30  ***.262.471-**         1.911789e+12   \n29152 2006-12-30  ***.262.471-**         4.750841e+13   \n29153 2006-12-30  ***.262.471-**         1.442096e+12   \n\n                                         NOME FORNECEDOR    VALOR TIPO  \\\n0                             JW TRANSPORTADORA TURSTICA  1696.90    D   \n1                             JW TRANSPORTADORA TURSTICA  1336.60    D   \n2                             JW TRANSPORTADORA TURSTICA  1396.43    D   \n3                                        FLORES ALVORADA  8585.00    C   \n4      CRISTAL LIMPEZA - COMRCIO DE MATERIAIS PARA LIMPE   251.50    C   \n...                                                  ...      ...  ...   \n29149     DIANA BABY - COMRCIO DE ARTIGOS INFANTIS LTDA.    24.99    C   \n29150          SANTA MARTA DISTRIBUIDORA DE DROGAS LTDA.    51.80    C   \n29151    PEIXARIA GOLFINHO - EPP (PEIXARIA DA DONA NEGA)  3982.65    C   \n29152                 COMPANHIA BRASILEIRA DE DISTRIBUIO   382.60    C   \n29153  ZANELLO IND. E COMRCIO DE MASSAS ALIMENTCIAS LTDA    74.14    C   \n\n                           SUBELEMENTO DE DESPESA  \\\n0                  LOCACAO DE MEIOS DE TRANSPORTE   \n1                  LOCACAO DE MEIOS DE TRANSPORTE   \n2                  LOCACAO DE MEIOS DE TRANSPORTE   \n3      OUTROS SERVIOS DE TERCEIROS-PESSOA JURDICA   \n4       MATERIAL DE LIMPEZA E PROD. DE HIGIENIZAO   \n...                                           ...   \n29149   MATERIAL DE LIMPEZA E PROD. DE HIGIENIZAO   \n29150   MATERIAL DE LIMPEZA E PROD. DE HIGIENIZAO   \n29151                        GENEROS DE ALIMENTAO   \n29152                        GENEROS DE ALIMENTAO   \n29153                        GENEROS DE ALIMENTAO   \n\n                                                    CDIC  \n0      00200.220539/2003-63.R.08.18/12/2002.31/12/2014.N  \n1      00200.220539/2003-63.R.08.18/12/2002.31/12/2014.N  \n2      00200.600539/2003-63.R.08.18/12/2002.31/12/2014.N  \n3      00200.800212/2003-91.R.08.07/12/2002.31/12/2014.N  \n4      00200.800212/2003-91.R.08.07/12/2002.31/12/2014.N  \n...                                                  ...  \n29149  00200.004779/2006-80.R.08.29/11/2006.31/12/2014.N  \n29150  00200.004779/2006-80.R.08.29/11/2006.31/12/2014.N  \n29151  00200.004779/2006-80.R.08.29/11/2006.31/12/2014.N  \n29152  00200.004779/2006-80.R.08.29/11/2006.31/12/2014.N  \n29153  00200.004779/2006-80.R.08.29/11/2006.31/12/2014.N  \n\n[29154 rows x 8 columns]",
      "text/html": "<div>\n<style scoped>\n    .dataframe tbody tr th:only-of-type {\n        vertical-align: middle;\n    }\n\n    .dataframe tbody tr th {\n        vertical-align: top;\n    }\n\n    .dataframe thead th {\n        text-align: right;\n    }\n</style>\n<table border=\"1\" class=\"dataframe\">\n  <thead>\n    <tr style=\"text-align: right;\">\n      <th></th>\n      <th>DATA PGTO</th>\n      <th>CPF SERVIDOR</th>\n      <th>CPF/CNPJ FORNECEDOR</th>\n      <th>NOME FORNECEDOR</th>\n      <th>VALOR</th>\n      <th>TIPO</th>\n      <th>SUBELEMENTO DE DESPESA</th>\n      <th>CDIC</th>\n    </tr>\n  </thead>\n  <tbody>\n    <tr>\n      <th>0</th>\n      <td>2003-01-02</td>\n      <td>***.010.008-**</td>\n      <td>3.134920e+13</td>\n      <td>JW TRANSPORTADORA TURSTICA</td>\n      <td>1696.90</td>\n      <td>D</td>\n      <td>LOCACAO DE MEIOS DE TRANSPORTE</td>\n      <td>00200.220539/2003-63.R.08.18/12/2002.31/12/2014.N</td>\n    </tr>\n    <tr>\n      <th>1</th>\n      <td>2003-01-02</td>\n      <td>***.010.008-**</td>\n      <td>3.134920e+13</td>\n      <td>JW TRANSPORTADORA TURSTICA</td>\n      <td>1336.60</td>\n      <td>D</td>\n      <td>LOCACAO DE MEIOS DE TRANSPORTE</td>\n      <td>00200.220539/2003-63.R.08.18/12/2002.31/12/2014.N</td>\n    </tr>\n    <tr>\n      <th>2</th>\n      <td>2003-01-02</td>\n      <td>***.868.251-**</td>\n      <td>3.134920e+13</td>\n      <td>JW TRANSPORTADORA TURSTICA</td>\n      <td>1396.43</td>\n      <td>D</td>\n      <td>LOCACAO DE MEIOS DE TRANSPORTE</td>\n      <td>00200.600539/2003-63.R.08.18/12/2002.31/12/2014.N</td>\n    </tr>\n    <tr>\n      <th>3</th>\n      <td>2003-01-03</td>\n      <td>***.004.131-**</td>\n      <td>5.927170e+11</td>\n      <td>FLORES ALVORADA</td>\n      <td>8585.00</td>\n      <td>C</td>\n      <td>OUTROS SERVIOS DE TERCEIROS-PESSOA JURDICA</td>\n      <td>00200.800212/2003-91.R.08.07/12/2002.31/12/2014.N</td>\n    </tr>\n    <tr>\n      <th>4</th>\n      <td>2003-01-03</td>\n      <td>***.004.131-**</td>\n      <td>8.393080e+11</td>\n      <td>CRISTAL LIMPEZA - COMRCIO DE MATERIAIS PARA LIMPE</td>\n      <td>251.50</td>\n      <td>C</td>\n      <td>MATERIAL DE LIMPEZA E PROD. DE HIGIENIZAO</td>\n      <td>00200.800212/2003-91.R.08.07/12/2002.31/12/2014.N</td>\n    </tr>\n    <tr>\n      <th>...</th>\n      <td>...</td>\n      <td>...</td>\n      <td>...</td>\n      <td>...</td>\n      <td>...</td>\n      <td>...</td>\n      <td>...</td>\n      <td>...</td>\n    </tr>\n    <tr>\n      <th>29149</th>\n      <td>2006-12-29</td>\n      <td>***.262.471-**</td>\n      <td>3.290462e+13</td>\n      <td>DIANA BABY - COMRCIO DE ARTIGOS INFANTIS LTDA.</td>\n      <td>24.99</td>\n      <td>C</td>\n      <td>MATERIAL DE LIMPEZA E PROD. DE HIGIENIZAO</td>\n      <td>00200.004779/2006-80.R.08.29/11/2006.31/12/2014.N</td>\n    </tr>\n    <tr>\n      <th>29150</th>\n      <td>2006-12-30</td>\n      <td>***.262.471-**</td>\n      <td>1.601043e+13</td>\n      <td>SANTA MARTA DISTRIBUIDORA DE DROGAS LTDA.</td>\n      <td>51.80</td>\n      <td>C</td>\n      <td>MATERIAL DE LIMPEZA E PROD. DE HIGIENIZAO</td>\n      <td>00200.004779/2006-80.R.08.29/11/2006.31/12/2014.N</td>\n    </tr>\n    <tr>\n      <th>29151</th>\n      <td>2006-12-30</td>\n      <td>***.262.471-**</td>\n      <td>1.911789e+12</td>\n      <td>PEIXARIA GOLFINHO - EPP (PEIXARIA DA DONA NEGA)</td>\n      <td>3982.65</td>\n      <td>C</td>\n      <td>GENEROS DE ALIMENTAO</td>\n      <td>00200.004779/2006-80.R.08.29/11/2006.31/12/2014.N</td>\n    </tr>\n    <tr>\n      <th>29152</th>\n      <td>2006-12-30</td>\n      <td>***.262.471-**</td>\n      <td>4.750841e+13</td>\n      <td>COMPANHIA BRASILEIRA DE DISTRIBUIO</td>\n      <td>382.60</td>\n      <td>C</td>\n      <td>GENEROS DE ALIMENTAO</td>\n      <td>00200.004779/2006-80.R.08.29/11/2006.31/12/2014.N</td>\n    </tr>\n    <tr>\n      <th>29153</th>\n      <td>2006-12-30</td>\n      <td>***.262.471-**</td>\n      <td>1.442096e+12</td>\n      <td>ZANELLO IND. E COMRCIO DE MASSAS ALIMENTCIAS LTDA</td>\n      <td>74.14</td>\n      <td>C</td>\n      <td>GENEROS DE ALIMENTAO</td>\n      <td>00200.004779/2006-80.R.08.29/11/2006.31/12/2014.N</td>\n    </tr>\n  </tbody>\n</table>\n<p>29154 rows × 8 columns</p>\n</div>"
     },
     "execution_count": 163,
     "metadata": {},
     "output_type": "execute_result"
    }
   ],
   "source": [
    "inicio = pd.Timestamp(2003, 1, 2)\n",
    "fim = pd.Timestamp(2006, 12, 30)\n",
    "compras_lula1 = csv.loc[(csv['DATA PGTO'] >= inicio) & (csv['DATA PGTO'] <= fim)]\n",
    "compras_lula1"
   ],
   "metadata": {
    "collapsed": false,
    "pycharm": {
     "name": "#%%\n"
    }
   }
  },
  {
   "cell_type": "code",
   "execution_count": 164,
   "outputs": [],
   "source": [
    "total_lula1 = compras_lula1['VALOR'].sum()\n",
    "qnt_lula1 = compras_lula1.size"
   ],
   "metadata": {
    "collapsed": false,
    "pycharm": {
     "name": "#%%\n"
    }
   }
  },
  {
   "cell_type": "markdown",
   "source": [
    "**No governo Lula 1 foram gastos:**"
   ],
   "metadata": {
    "collapsed": false,
    "pycharm": {
     "name": "#%% md\n"
    }
   }
  },
  {
   "cell_type": "code",
   "execution_count": 165,
   "outputs": [
    {
     "data": {
      "text/plain": "'R$ 22050636,06'"
     },
     "execution_count": 165,
     "metadata": {},
     "output_type": "execute_result"
    }
   ],
   "source": [
    "locale.currency(total_lula1)"
   ],
   "metadata": {
    "collapsed": false,
    "pycharm": {
     "name": "#%%\n"
    }
   }
  },
  {
   "cell_type": "markdown",
   "source": [
    "**Foram feitas 233.232 compras no cartão corporativo.**"
   ],
   "metadata": {
    "collapsed": false,
    "pycharm": {
     "name": "#%% md\n"
    }
   }
  },
  {
   "cell_type": "code",
   "execution_count": 166,
   "outputs": [
    {
     "data": {
      "text/plain": "233232"
     },
     "execution_count": 166,
     "metadata": {},
     "output_type": "execute_result"
    }
   ],
   "source": [
    "qnt_lula1"
   ],
   "metadata": {
    "collapsed": false,
    "pycharm": {
     "name": "#%%\n"
    }
   }
  },
  {
   "cell_type": "markdown",
   "source": [
    " # Mandato Lula 2"
   ],
   "metadata": {
    "collapsed": false,
    "pycharm": {
     "name": "#%% md\n"
    }
   }
  },
  {
   "cell_type": "code",
   "execution_count": 167,
   "outputs": [
    {
     "data": {
      "text/plain": "       DATA PGTO    CPF SERVIDOR  CPF/CNPJ FORNECEDOR  \\\n29156 2007-01-02  ***.004.131-**         4.750841e+13   \n29157 2007-01-02  ***.004.131-**         4.750841e+13   \n29158 2007-01-02  ***.004.131-**         4.750841e+13   \n29159 2007-01-02  ***.004.131-**         1.361363e+12   \n29160 2007-01-02  ***.004.131-**         2.498011e+12   \n...          ...             ...                  ...   \n65861 2010-12-30  ***.262.471-**         2.730992e+12   \n65862 2010-12-30  ***.262.471-**         1.610583e+12   \n65863 2010-12-30  ***.262.471-**         1.610583e+12   \n65864 2010-12-30  ***.570.341-**         7.653576e+13   \n65865 2010-12-30  ***.570.341-**         7.653576e+13   \n\n                                     NOME FORNECEDOR    VALOR TIPO  \\\n29156             COMPANHIA BRASILEIRA DE DISTRIBUIO  1348.65    C   \n29157             COMPANHIA BRASILEIRA DE DISTRIBUIO   969.15    C   \n29158             COMPANHIA BRASILEIRA DE DISTRIBUIO    92.21    C   \n29159                     STAR CLEAN LAVANDERIA LTDA   475.00    C   \n29160                      BRASLIA NUTICA LTDA - EPP   486.00    C   \n...                                              ...      ...  ...   \n65861                      KI FESTO CONFEITARIA LTDA   296.00    C   \n65862  DISTRIBUIDORA DE CARNE MORRO BRANCO LTDA - ME  3043.34    C   \n65863  DISTRIBUIDORA DE CARNE MORRO BRANCO LTDA - ME  1160.46    C   \n65864                BRASIL TELECOM S/A - FILIAL CRT   504.23    D   \n65865                BRASIL TELECOM S/A - FILIAL CRT   455.73    D   \n\n                         SUBELEMENTO DE DESPESA  \\\n29156                      GENEROS DE ALIMENTAO   \n29157                      GENEROS DE ALIMENTAO   \n29158                      GENEROS DE ALIMENTAO   \n29159                         SERVIOS DOMSTICOS   \n29160                   MATERIAL DE CAA E PESCA   \n...                                         ...   \n65861  MATERIAL DE ACONDICIONAMENTO E EMBALAGEM   \n65862                      GENEROS DE ALIMENTAO   \n65863                      GENEROS DE ALIMENTAO   \n65864                 SERVIOS DE TELECOMUNICAES   \n65865                 SERVIOS DE TELECOMUNICAES   \n\n                                                    CDIC  \n29156  00200.000053/2007-59.R.08.30/12/2006.31/12/2014.N  \n29157  00200.000053/2007-59.R.08.30/12/2006.31/12/2014.N  \n29158  00200.000053/2007-59.R.08.30/12/2006.31/12/2014.N  \n29159  00200.000053/2007-59.R.08.30/12/2006.31/12/2014.N  \n29160  00200.000053/2007-59.R.08.30/12/2006.31/12/2014.N  \n...                                                  ...  \n65861  00150.001802/2010-01.R.08.27/11/2010.31/12/2014.N  \n65862  00150.001802/2010-01.R.08.27/11/2010.31/12/2014.N  \n65863  00150.001802/2010-01.R.08.27/11/2010.31/12/2014.N  \n65864  00150.001812/2010-39.R.08.27/11/2010.31/12/2014.N  \n65865  00150.001812/2010-39.R.08.27/11/2010.31/12/2014.N  \n\n[36710 rows x 8 columns]",
      "text/html": "<div>\n<style scoped>\n    .dataframe tbody tr th:only-of-type {\n        vertical-align: middle;\n    }\n\n    .dataframe tbody tr th {\n        vertical-align: top;\n    }\n\n    .dataframe thead th {\n        text-align: right;\n    }\n</style>\n<table border=\"1\" class=\"dataframe\">\n  <thead>\n    <tr style=\"text-align: right;\">\n      <th></th>\n      <th>DATA PGTO</th>\n      <th>CPF SERVIDOR</th>\n      <th>CPF/CNPJ FORNECEDOR</th>\n      <th>NOME FORNECEDOR</th>\n      <th>VALOR</th>\n      <th>TIPO</th>\n      <th>SUBELEMENTO DE DESPESA</th>\n      <th>CDIC</th>\n    </tr>\n  </thead>\n  <tbody>\n    <tr>\n      <th>29156</th>\n      <td>2007-01-02</td>\n      <td>***.004.131-**</td>\n      <td>4.750841e+13</td>\n      <td>COMPANHIA BRASILEIRA DE DISTRIBUIO</td>\n      <td>1348.65</td>\n      <td>C</td>\n      <td>GENEROS DE ALIMENTAO</td>\n      <td>00200.000053/2007-59.R.08.30/12/2006.31/12/2014.N</td>\n    </tr>\n    <tr>\n      <th>29157</th>\n      <td>2007-01-02</td>\n      <td>***.004.131-**</td>\n      <td>4.750841e+13</td>\n      <td>COMPANHIA BRASILEIRA DE DISTRIBUIO</td>\n      <td>969.15</td>\n      <td>C</td>\n      <td>GENEROS DE ALIMENTAO</td>\n      <td>00200.000053/2007-59.R.08.30/12/2006.31/12/2014.N</td>\n    </tr>\n    <tr>\n      <th>29158</th>\n      <td>2007-01-02</td>\n      <td>***.004.131-**</td>\n      <td>4.750841e+13</td>\n      <td>COMPANHIA BRASILEIRA DE DISTRIBUIO</td>\n      <td>92.21</td>\n      <td>C</td>\n      <td>GENEROS DE ALIMENTAO</td>\n      <td>00200.000053/2007-59.R.08.30/12/2006.31/12/2014.N</td>\n    </tr>\n    <tr>\n      <th>29159</th>\n      <td>2007-01-02</td>\n      <td>***.004.131-**</td>\n      <td>1.361363e+12</td>\n      <td>STAR CLEAN LAVANDERIA LTDA</td>\n      <td>475.00</td>\n      <td>C</td>\n      <td>SERVIOS DOMSTICOS</td>\n      <td>00200.000053/2007-59.R.08.30/12/2006.31/12/2014.N</td>\n    </tr>\n    <tr>\n      <th>29160</th>\n      <td>2007-01-02</td>\n      <td>***.004.131-**</td>\n      <td>2.498011e+12</td>\n      <td>BRASLIA NUTICA LTDA - EPP</td>\n      <td>486.00</td>\n      <td>C</td>\n      <td>MATERIAL DE CAA E PESCA</td>\n      <td>00200.000053/2007-59.R.08.30/12/2006.31/12/2014.N</td>\n    </tr>\n    <tr>\n      <th>...</th>\n      <td>...</td>\n      <td>...</td>\n      <td>...</td>\n      <td>...</td>\n      <td>...</td>\n      <td>...</td>\n      <td>...</td>\n      <td>...</td>\n    </tr>\n    <tr>\n      <th>65861</th>\n      <td>2010-12-30</td>\n      <td>***.262.471-**</td>\n      <td>2.730992e+12</td>\n      <td>KI FESTO CONFEITARIA LTDA</td>\n      <td>296.00</td>\n      <td>C</td>\n      <td>MATERIAL DE ACONDICIONAMENTO E EMBALAGEM</td>\n      <td>00150.001802/2010-01.R.08.27/11/2010.31/12/2014.N</td>\n    </tr>\n    <tr>\n      <th>65862</th>\n      <td>2010-12-30</td>\n      <td>***.262.471-**</td>\n      <td>1.610583e+12</td>\n      <td>DISTRIBUIDORA DE CARNE MORRO BRANCO LTDA - ME</td>\n      <td>3043.34</td>\n      <td>C</td>\n      <td>GENEROS DE ALIMENTAO</td>\n      <td>00150.001802/2010-01.R.08.27/11/2010.31/12/2014.N</td>\n    </tr>\n    <tr>\n      <th>65863</th>\n      <td>2010-12-30</td>\n      <td>***.262.471-**</td>\n      <td>1.610583e+12</td>\n      <td>DISTRIBUIDORA DE CARNE MORRO BRANCO LTDA - ME</td>\n      <td>1160.46</td>\n      <td>C</td>\n      <td>GENEROS DE ALIMENTAO</td>\n      <td>00150.001802/2010-01.R.08.27/11/2010.31/12/2014.N</td>\n    </tr>\n    <tr>\n      <th>65864</th>\n      <td>2010-12-30</td>\n      <td>***.570.341-**</td>\n      <td>7.653576e+13</td>\n      <td>BRASIL TELECOM S/A - FILIAL CRT</td>\n      <td>504.23</td>\n      <td>D</td>\n      <td>SERVIOS DE TELECOMUNICAES</td>\n      <td>00150.001812/2010-39.R.08.27/11/2010.31/12/2014.N</td>\n    </tr>\n    <tr>\n      <th>65865</th>\n      <td>2010-12-30</td>\n      <td>***.570.341-**</td>\n      <td>7.653576e+13</td>\n      <td>BRASIL TELECOM S/A - FILIAL CRT</td>\n      <td>455.73</td>\n      <td>D</td>\n      <td>SERVIOS DE TELECOMUNICAES</td>\n      <td>00150.001812/2010-39.R.08.27/11/2010.31/12/2014.N</td>\n    </tr>\n  </tbody>\n</table>\n<p>36710 rows × 8 columns</p>\n</div>"
     },
     "execution_count": 167,
     "metadata": {},
     "output_type": "execute_result"
    }
   ],
   "source": [
    "inicio = pd.Timestamp(2007, 1, 2)\n",
    "fim = pd.Timestamp(2010, 12, 30)\n",
    "compras_lula2 = csv.loc[(csv['DATA PGTO'] >= inicio) & (csv['DATA PGTO'] <= fim)]\n",
    "total_lula2 = compras_lula2['VALOR'].sum()\n",
    "qnt_lula2 = compras_lula2.size\n",
    "compras_lula2"
   ],
   "metadata": {
    "collapsed": false,
    "pycharm": {
     "name": "#%%\n"
    }
   }
  },
  {
   "cell_type": "markdown",
   "source": [
    "**No governo Lula 2 foram gastos:**"
   ],
   "metadata": {
    "collapsed": false,
    "pycharm": {
     "name": "#%% md\n"
    }
   }
  },
  {
   "cell_type": "code",
   "execution_count": 168,
   "outputs": [
    {
     "data": {
      "text/plain": "'R$ 21924453,96'"
     },
     "execution_count": 168,
     "metadata": {},
     "output_type": "execute_result"
    }
   ],
   "source": [
    "locale.currency(total_lula2)"
   ],
   "metadata": {
    "collapsed": false,
    "pycharm": {
     "name": "#%%\n"
    }
   }
  }
 ],
 "metadata": {
  "kernelspec": {
   "display_name": "Python 3",
   "language": "python",
   "name": "python3"
  },
  "language_info": {
   "codemirror_mode": {
    "name": "ipython",
    "version": 2
   },
   "file_extension": ".py",
   "mimetype": "text/x-python",
   "name": "python",
   "nbconvert_exporter": "python",
   "pygments_lexer": "ipython2",
   "version": "2.7.6"
  }
 },
 "nbformat": 4,
 "nbformat_minor": 0
}
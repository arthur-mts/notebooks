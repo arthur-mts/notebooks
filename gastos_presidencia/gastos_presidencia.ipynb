{
 "cells": [
  {
   "cell_type": "code",
   "execution_count": 64,
   "metadata": {
    "collapsed": true,
    "pycharm": {
     "name": "#%%\n"
    }
   },
   "outputs": [
    {
     "data": {
      "text/plain": "'pt_BR.UTF-8'"
     },
     "execution_count": 64,
     "metadata": {},
     "output_type": "execute_result"
    }
   ],
   "source": [
    "import numpy as np\n",
    "import matplotlib as plt\n",
    "import csv\n",
    "import pandas as pd\n",
    "import locale\n",
    "locale.setlocale(locale.LC_MONETARY, 'pt_BR.UTF-8')"
   ]
  },
  {
   "cell_type": "code",
   "execution_count": 65,
   "outputs": [],
   "source": [
    "csv = pd.read_csv('Planilha12003a2022.csv',encoding_errors='ignore', delimiter=';')\n",
    "\n",
    "csv['DATA PGTO'] = csv['DATA PGTO'].str.replace('At ', '')\n",
    "csv = csv.loc[csv['DATA PGTO'].str.contains('\\d+\\/\\d+\\/\\d+', regex=True)]\n",
    "csv['DATA PGTO'] = pd.to_datetime(csv['DATA PGTO'], format='%d/%m/%Y')\n",
    "csv['VALOR'] = csv['VALOR'].str\\\n",
    "    .replace('R\\$ ', '', regex=True)\\\n",
    "    .replace('\\.', '', regex=True)\\\n",
    "    .replace(' ', '', regex=True)\\\n",
    "    .replace(',', '.', regex=True)\\\n",
    "    .where(lambda x: x!='-')\\\n",
    "    .astype(float)"
   ],
   "metadata": {
    "collapsed": false,
    "pycharm": {
     "name": "#%%\n"
    }
   }
  },
  {
   "cell_type": "code",
   "execution_count": 66,
   "outputs": [],
   "source": [
    "csv['ANO'] = pd.DatetimeIndex(csv['DATA PGTO']).year"
   ],
   "metadata": {
    "collapsed": false,
    "pycharm": {
     "name": "#%%\n"
    }
   }
  },
  {
   "cell_type": "code",
   "execution_count": 67,
   "outputs": [
    {
     "name": "stderr",
     "output_type": "stream",
     "text": [
      "/tmp/ipykernel_17328/4246597483.py:2: FutureWarning: The default value of numeric_only in DataFrameGroupBy.sum is deprecated. In a future version, numeric_only will default to False. Either specify numeric_only or select only columns which should be valid for the function.\n",
      "  gasto_ano = csv.groupby('ANO').sum()\n"
     ]
    }
   ],
   "source": [
    "qnt_ano = csv.groupby('ANO').count()[['VALOR']]\n",
    "gasto_ano = csv.groupby('ANO').sum()\n",
    "gasto_ano = gasto_ano[['VALOR']]"
   ],
   "metadata": {
    "collapsed": false,
    "pycharm": {
     "name": "#%%\n"
    }
   }
  },
  {
   "cell_type": "markdown",
   "source": [
    "# Mandato Lula 1"
   ],
   "metadata": {
    "collapsed": false,
    "pycharm": {
     "name": "#%% md\n"
    }
   }
  },
  {
   "cell_type": "code",
   "execution_count": 69,
   "outputs": [],
   "source": [
    "compras_lula1 = gasto_ano.loc[(gasto_ano.index >= 2003) & (gasto_ano.index <= 2006)]\n",
    "total_lula1 = compras_lula1['VALOR'].sum()\n",
    "qnt_lula1 = qnt_ano.loc[(qnt_ano.index >= 2003) & (qnt_ano.index <= 2006)]['VALOR'].sum()"
   ],
   "metadata": {
    "collapsed": false,
    "pycharm": {
     "name": "#%%\n"
    }
   }
  },
  {
   "cell_type": "markdown",
   "source": [
    "**No governo Lula 1 foram gastos:**"
   ],
   "metadata": {
    "collapsed": false,
    "pycharm": {
     "name": "#%% md\n"
    }
   }
  },
  {
   "cell_type": "code",
   "execution_count": 70,
   "outputs": [
    {
     "data": {
      "text/plain": "'R$ 22050815,53'"
     },
     "execution_count": 70,
     "metadata": {},
     "output_type": "execute_result"
    }
   ],
   "source": [
    "locale.currency(total_lula1)"
   ],
   "metadata": {
    "collapsed": false,
    "pycharm": {
     "name": "#%%\n"
    }
   }
  },
  {
   "cell_type": "markdown",
   "source": [
    "**Foram feitas 233.232 compras no cartão corporativo.**"
   ],
   "metadata": {
    "collapsed": false,
    "pycharm": {
     "name": "#%% md\n"
    }
   }
  },
  {
   "cell_type": "code",
   "execution_count": 71,
   "outputs": [
    {
     "data": {
      "text/plain": "29155"
     },
     "execution_count": 71,
     "metadata": {},
     "output_type": "execute_result"
    }
   ],
   "source": [
    "qnt_lula1"
   ],
   "metadata": {
    "collapsed": false,
    "pycharm": {
     "name": "#%%\n"
    }
   }
  },
  {
   "cell_type": "markdown",
   "source": [
    " # Mandato Lula 2"
   ],
   "metadata": {
    "collapsed": false,
    "pycharm": {
     "name": "#%% md\n"
    }
   }
  },
  {
   "cell_type": "code",
   "execution_count": 74,
   "outputs": [],
   "source": [
    "compras_lula2 = gasto_ano.loc[(gasto_ano.index >= 2007) & (gasto_ano.index <= 2010)]\n",
    "total_lula2 = compras_lula2['VALOR'].sum()\n",
    "qnt_lula2 = qnt_ano.loc[(qnt_ano.index >= 2003) & (qnt_ano.index <= 2006)]['VALOR'].sum()"
   ],
   "metadata": {
    "collapsed": false,
    "pycharm": {
     "name": "#%%\n"
    }
   }
  },
  {
   "cell_type": "markdown",
   "source": [
    "**No governo Lula 2 foram gastos:**"
   ],
   "metadata": {
    "collapsed": false,
    "pycharm": {
     "name": "#%% md\n"
    }
   }
  },
  {
   "cell_type": "code",
   "execution_count": 75,
   "outputs": [
    {
     "data": {
      "text/plain": "'R$ 21937694,52'"
     },
     "execution_count": 75,
     "metadata": {},
     "output_type": "execute_result"
    }
   ],
   "source": [
    "locale.currency(total_lula2)"
   ],
   "metadata": {
    "collapsed": false,
    "pycharm": {
     "name": "#%%\n"
    }
   }
  },
  {
   "cell_type": "code",
   "execution_count": null,
   "outputs": [],
   "source": [],
   "metadata": {
    "collapsed": false,
    "pycharm": {
     "name": "#%%\n"
    }
   }
  }
 ],
 "metadata": {
  "kernelspec": {
   "display_name": "Python 3",
   "language": "python",
   "name": "python3"
  },
  "language_info": {
   "codemirror_mode": {
    "name": "ipython",
    "version": 2
   },
   "file_extension": ".py",
   "mimetype": "text/x-python",
   "name": "python",
   "nbconvert_exporter": "python",
   "pygments_lexer": "ipython2",
   "version": "2.7.6"
  }
 },
 "nbformat": 4,
 "nbformat_minor": 0
}